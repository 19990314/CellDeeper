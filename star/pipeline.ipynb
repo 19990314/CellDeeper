{
 "cells": [
  {
   "cell_type": "code",
   "execution_count": 2,
   "metadata": {
    "collapsed": true
   },
   "outputs": [
    {
     "name": "stdout",
     "output_type": "stream",
     "text": [
      "Requirement already satisfied: stardist in /Users/iris/opt/anaconda3/lib/python3.9/site-packages (0.8.5)\r\n",
      "Requirement already satisfied: csbdeep>=0.7.4 in /Users/iris/opt/anaconda3/lib/python3.9/site-packages (from stardist) (0.7.4)\r\n",
      "Requirement already satisfied: scikit-image in /Users/iris/opt/anaconda3/lib/python3.9/site-packages (from stardist) (0.19.3)\r\n",
      "Requirement already satisfied: numba in /Users/iris/opt/anaconda3/lib/python3.9/site-packages (from stardist) (0.58.0)\r\n",
      "Requirement already satisfied: imageio in /Users/iris/opt/anaconda3/lib/python3.9/site-packages (from stardist) (2.31.4)\r\n",
      "Requirement already satisfied: numpy in /Users/iris/opt/anaconda3/lib/python3.9/site-packages (from csbdeep>=0.7.4->stardist) (1.24.3)\r\n",
      "Requirement already satisfied: scipy in /Users/iris/opt/anaconda3/lib/python3.9/site-packages (from csbdeep>=0.7.4->stardist) (1.11.3)\r\n",
      "Requirement already satisfied: matplotlib in /Users/iris/opt/anaconda3/lib/python3.9/site-packages (from csbdeep>=0.7.4->stardist) (3.7.2)\r\n",
      "Requirement already satisfied: six in /Users/iris/opt/anaconda3/lib/python3.9/site-packages (from csbdeep>=0.7.4->stardist) (1.16.0)\r\n",
      "Requirement already satisfied: tifffile in /Users/iris/opt/anaconda3/lib/python3.9/site-packages (from csbdeep>=0.7.4->stardist) (2023.4.12)\r\n",
      "Requirement already satisfied: tqdm in /Users/iris/opt/anaconda3/lib/python3.9/site-packages (from csbdeep>=0.7.4->stardist) (4.65.0)\r\n",
      "Requirement already satisfied: packaging in /Users/iris/opt/anaconda3/lib/python3.9/site-packages (from csbdeep>=0.7.4->stardist) (23.1)\r\n",
      "Requirement already satisfied: pillow>=8.3.2 in /Users/iris/opt/anaconda3/lib/python3.9/site-packages (from imageio->stardist) (10.0.1)\r\n",
      "Requirement already satisfied: llvmlite<0.42,>=0.41.0dev0 in /Users/iris/opt/anaconda3/lib/python3.9/site-packages (from numba->stardist) (0.41.0)\r\n",
      "Requirement already satisfied: networkx>=2.2 in /Users/iris/opt/anaconda3/lib/python3.9/site-packages (from scikit-image->stardist) (3.1)\r\n",
      "Requirement already satisfied: PyWavelets>=1.1.1 in /Users/iris/opt/anaconda3/lib/python3.9/site-packages (from scikit-image->stardist) (1.4.1)\r\n",
      "Requirement already satisfied: contourpy>=1.0.1 in /Users/iris/opt/anaconda3/lib/python3.9/site-packages (from matplotlib->csbdeep>=0.7.4->stardist) (1.0.5)\r\n",
      "Requirement already satisfied: cycler>=0.10 in /Users/iris/opt/anaconda3/lib/python3.9/site-packages (from matplotlib->csbdeep>=0.7.4->stardist) (0.11.0)\r\n",
      "Requirement already satisfied: fonttools>=4.22.0 in /Users/iris/opt/anaconda3/lib/python3.9/site-packages (from matplotlib->csbdeep>=0.7.4->stardist) (4.25.0)\r\n",
      "Requirement already satisfied: kiwisolver>=1.0.1 in /Users/iris/opt/anaconda3/lib/python3.9/site-packages (from matplotlib->csbdeep>=0.7.4->stardist) (1.4.4)\r\n",
      "Requirement already satisfied: pyparsing<3.1,>=2.3.1 in /Users/iris/opt/anaconda3/lib/python3.9/site-packages (from matplotlib->csbdeep>=0.7.4->stardist) (3.0.9)\r\n",
      "Requirement already satisfied: python-dateutil>=2.7 in /Users/iris/opt/anaconda3/lib/python3.9/site-packages (from matplotlib->csbdeep>=0.7.4->stardist) (2.8.2)\r\n",
      "Requirement already satisfied: importlib-resources>=3.2.0 in /Users/iris/opt/anaconda3/lib/python3.9/site-packages (from matplotlib->csbdeep>=0.7.4->stardist) (6.1.0)\r\n",
      "Requirement already satisfied: zipp>=3.1.0 in /Users/iris/opt/anaconda3/lib/python3.9/site-packages (from importlib-resources>=3.2.0->matplotlib->csbdeep>=0.7.4->stardist) (3.11.0)\r\n"
     ]
    }
   ],
   "source": [
    "!pip3 install stardist"
   ]
  },
  {
   "cell_type": "code",
   "execution_count": 1,
   "outputs": [
    {
     "ename": "ModuleNotFoundError",
     "evalue": "No module named 'stardist.models'; 'stardist' is not a package",
     "output_type": "error",
     "traceback": [
      "\u001B[0;31m---------------------------------------------------------------------------\u001B[0m",
      "\u001B[0;31mModuleNotFoundError\u001B[0m                       Traceback (most recent call last)",
      "Input \u001B[0;32mIn [1]\u001B[0m, in \u001B[0;36m<cell line: 1>\u001B[0;34m()\u001B[0m\n\u001B[0;32m----> 1\u001B[0m \u001B[38;5;28;01mfrom\u001B[39;00m \u001B[38;5;21;01mstardist\u001B[39;00m \u001B[38;5;28;01mimport\u001B[39;00m \u001B[38;5;241m*\u001B[39m\n",
      "File \u001B[0;32m~/Desktop/CellDeeper/star/stardist.py:1\u001B[0m, in \u001B[0;36m<module>\u001B[0;34m\u001B[0m\n\u001B[0;32m----> 1\u001B[0m \u001B[38;5;28;01mfrom\u001B[39;00m \u001B[38;5;21;01mstardist\u001B[39;00m\u001B[38;5;21;01m.\u001B[39;00m\u001B[38;5;21;01mmodels\u001B[39;00m \u001B[38;5;28;01mimport\u001B[39;00m StarDist2D\n\u001B[1;32m      3\u001B[0m \u001B[38;5;66;03m# prints a list of available models\u001B[39;00m\n\u001B[1;32m      4\u001B[0m StarDist2D\u001B[38;5;241m.\u001B[39mfrom_pretrained()\n",
      "\u001B[0;31mModuleNotFoundError\u001B[0m: No module named 'stardist.models'; 'stardist' is not a package"
     ]
    }
   ],
   "source": [
    "from stardist import *\n"
   ],
   "metadata": {
    "collapsed": false
   }
  },
  {
   "cell_type": "code",
   "execution_count": null,
   "outputs": [],
   "source": [],
   "metadata": {
    "collapsed": false
   }
  }
 ],
 "metadata": {
  "kernelspec": {
   "display_name": "Python 3",
   "language": "python",
   "name": "python3"
  },
  "language_info": {
   "codemirror_mode": {
    "name": "ipython",
    "version": 2
   },
   "file_extension": ".py",
   "mimetype": "text/x-python",
   "name": "python",
   "nbconvert_exporter": "python",
   "pygments_lexer": "ipython2",
   "version": "2.7.6"
  }
 },
 "nbformat": 4,
 "nbformat_minor": 0
}
